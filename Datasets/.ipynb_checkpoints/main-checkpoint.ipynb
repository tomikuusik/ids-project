{
 "cells": [
  {
   "cell_type": "code",
   "execution_count": 38,
   "id": "3ca66467",
   "metadata": {},
   "outputs": [
    {
     "name": "stdout",
     "output_type": "stream",
     "text": [
      "['Consumer Discretionary', 'Consumer Staples', 'Energy', 'Financials', 'Healthcare', 'Industrials', 'Materials', 'Other', 'Real Estate', 'Technology', 'Telecom', 'Utilities']\n",
      "            Date  ETF                  Sector    Open    High      Low  \\\n",
      "0     2008-01-24  BJK  Consumer Discretionary  34.141  34.141  34.1000   \n",
      "1     2008-01-25  BJK  Consumer Discretionary  34.429  37.111  34.3480   \n",
      "2     2008-01-28  BJK  Consumer Discretionary  35.328  35.328  33.7530   \n",
      "3     2008-01-29  BJK  Consumer Discretionary  34.628  34.628  34.5130   \n",
      "4     2008-01-30  BJK  Consumer Discretionary  34.628  35.461  34.6280   \n",
      "...          ...  ...                     ...     ...     ...      ...   \n",
      "2441  2017-11-06  BJK  Consumer Discretionary  43.430  43.500  43.2935   \n",
      "2442  2017-11-07  BJK  Consumer Discretionary  43.620  43.705  43.3900   \n",
      "2443  2017-11-08  BJK  Consumer Discretionary  43.950  44.150  43.8416   \n",
      "2444  2017-11-09  BJK  Consumer Discretionary  43.890  43.990  43.8390   \n",
      "2445  2017-11-10  BJK  Consumer Discretionary  44.150  44.150  43.9200   \n",
      "\n",
      "       Close  Volume  \n",
      "0     34.100     848  \n",
      "1     37.111     970  \n",
      "2     34.306    4726  \n",
      "3     34.594    7755  \n",
      "4     34.974    9209  \n",
      "...      ...     ...  \n",
      "2441  43.406    3418  \n",
      "2442  43.540    4205  \n",
      "2443  44.095   11494  \n",
      "2444  43.910    1126  \n",
      "2445  44.030    3356  \n",
      "\n",
      "[2446 rows x 8 columns]\n",
      "            Date   ETF                  Sector    Open     High      Low  \\\n",
      "0     2011-05-12  CARZ  Consumer Discretionary  27.469  27.6080  27.3720   \n",
      "1     2011-05-13  CARZ  Consumer Discretionary  27.563  27.6970  27.1410   \n",
      "2     2011-05-16  CARZ  Consumer Discretionary  27.095  27.1140  26.9780   \n",
      "3     2011-05-17  CARZ  Consumer Discretionary  26.985  26.9850  26.7390   \n",
      "4     2011-05-18  CARZ  Consumer Discretionary  27.085  27.2600  26.8580   \n",
      "...          ...   ...                     ...     ...      ...      ...   \n",
      "1533  2017-11-06  CARZ  Consumer Discretionary  42.160  42.1841  41.9600   \n",
      "1534  2017-11-07  CARZ  Consumer Discretionary  42.010  42.0100  41.9736   \n",
      "1535  2017-11-08  CARZ  Consumer Discretionary  41.970  41.9700  41.9000   \n",
      "1536  2017-11-09  CARZ  Consumer Discretionary  41.410  41.4100  41.2700   \n",
      "1537  2017-11-10  CARZ  Consumer Discretionary  41.280  41.3000  41.2400   \n",
      "\n",
      "        Close  Volume  \n",
      "0     27.5630    4400  \n",
      "1     27.2320   18947  \n",
      "2     26.9850    4371  \n",
      "3     26.8580    1499  \n",
      "4     27.2600    1966  \n",
      "...       ...     ...  \n",
      "1533  42.0800    1909  \n",
      "1534  41.9736    1503  \n",
      "1535  41.9077    1657  \n",
      "1536  41.3500   12478  \n",
      "1537  41.2800    1501  \n",
      "\n",
      "[1538 rows x 8 columns]\n"
     ]
    },
    {
     "ename": "TypeError",
     "evalue": "cannot concatenate object of type '<class 'module'>'; only Series and DataFrame objs are valid",
     "output_type": "error",
     "traceback": [
      "\u001b[1;31m---------------------------------------------------------------------------\u001b[0m",
      "\u001b[1;31mTypeError\u001b[0m                                 Traceback (most recent call last)",
      "\u001b[1;32m~\\AppData\\Local\\Temp/ipykernel_59844/3323811670.py\u001b[0m in \u001b[0;36m<module>\u001b[1;34m\u001b[0m\n\u001b[0;32m     24\u001b[0m             \u001b[0ma\u001b[0m \u001b[1;33m=\u001b[0m \u001b[0ma\u001b[0m\u001b[1;33m[\u001b[0m\u001b[1;33m[\u001b[0m\u001b[1;34m\"Date\"\u001b[0m\u001b[1;33m,\u001b[0m\u001b[1;34m\"ETF\"\u001b[0m\u001b[1;33m,\u001b[0m\u001b[1;34m\"Sector\"\u001b[0m\u001b[1;33m]\u001b[0m\u001b[1;33m+\u001b[0m\u001b[0mlist\u001b[0m\u001b[1;33m(\u001b[0m\u001b[0ma\u001b[0m\u001b[1;33m.\u001b[0m\u001b[0mcolumns\u001b[0m\u001b[1;33m[\u001b[0m\u001b[1;36m1\u001b[0m\u001b[1;33m:\u001b[0m\u001b[1;33m-\u001b[0m\u001b[1;36m2\u001b[0m\u001b[1;33m]\u001b[0m\u001b[1;33m)\u001b[0m\u001b[1;33m]\u001b[0m\u001b[1;33m\u001b[0m\u001b[1;33m\u001b[0m\u001b[0m\n\u001b[0;32m     25\u001b[0m             \u001b[0mprint\u001b[0m\u001b[1;33m(\u001b[0m\u001b[0ma\u001b[0m\u001b[1;33m)\u001b[0m\u001b[1;33m\u001b[0m\u001b[1;33m\u001b[0m\u001b[0m\n\u001b[1;32m---> 26\u001b[1;33m             \u001b[0mdf\u001b[0m \u001b[1;33m=\u001b[0m \u001b[0mpd\u001b[0m\u001b[1;33m.\u001b[0m\u001b[0mconcat\u001b[0m\u001b[1;33m(\u001b[0m\u001b[1;33m[\u001b[0m\u001b[0mpd\u001b[0m\u001b[1;33m,\u001b[0m\u001b[0ma\u001b[0m\u001b[1;33m]\u001b[0m\u001b[1;33m,\u001b[0m\u001b[0mignore_index\u001b[0m\u001b[1;33m=\u001b[0m\u001b[1;32mTrue\u001b[0m\u001b[1;33m)\u001b[0m\u001b[1;33m\u001b[0m\u001b[1;33m\u001b[0m\u001b[0m\n\u001b[0m\u001b[0;32m     27\u001b[0m \u001b[1;33m\u001b[0m\u001b[0m\n\u001b[0;32m     28\u001b[0m \u001b[0mprint\u001b[0m\u001b[1;33m(\u001b[0m\u001b[0mdf\u001b[0m\u001b[1;33m)\u001b[0m\u001b[1;33m\u001b[0m\u001b[1;33m\u001b[0m\u001b[0m\n",
      "\u001b[1;32m~\\AppData\\Local\\Packages\\PythonSoftwareFoundation.Python.3.8_qbz5n2kfra8p0\\LocalCache\\local-packages\\Python38\\site-packages\\pandas\\util\\_decorators.py\u001b[0m in \u001b[0;36mwrapper\u001b[1;34m(*args, **kwargs)\u001b[0m\n\u001b[0;32m    309\u001b[0m                     \u001b[0mstacklevel\u001b[0m\u001b[1;33m=\u001b[0m\u001b[0mstacklevel\u001b[0m\u001b[1;33m,\u001b[0m\u001b[1;33m\u001b[0m\u001b[1;33m\u001b[0m\u001b[0m\n\u001b[0;32m    310\u001b[0m                 )\n\u001b[1;32m--> 311\u001b[1;33m             \u001b[1;32mreturn\u001b[0m \u001b[0mfunc\u001b[0m\u001b[1;33m(\u001b[0m\u001b[1;33m*\u001b[0m\u001b[0margs\u001b[0m\u001b[1;33m,\u001b[0m \u001b[1;33m**\u001b[0m\u001b[0mkwargs\u001b[0m\u001b[1;33m)\u001b[0m\u001b[1;33m\u001b[0m\u001b[1;33m\u001b[0m\u001b[0m\n\u001b[0m\u001b[0;32m    312\u001b[0m \u001b[1;33m\u001b[0m\u001b[0m\n\u001b[0;32m    313\u001b[0m         \u001b[1;32mreturn\u001b[0m \u001b[0mwrapper\u001b[0m\u001b[1;33m\u001b[0m\u001b[1;33m\u001b[0m\u001b[0m\n",
      "\u001b[1;32m~\\AppData\\Local\\Packages\\PythonSoftwareFoundation.Python.3.8_qbz5n2kfra8p0\\LocalCache\\local-packages\\Python38\\site-packages\\pandas\\core\\reshape\\concat.py\u001b[0m in \u001b[0;36mconcat\u001b[1;34m(objs, axis, join, ignore_index, keys, levels, names, verify_integrity, sort, copy)\u001b[0m\n\u001b[0;32m    292\u001b[0m     \u001b[0mValueError\u001b[0m\u001b[1;33m:\u001b[0m \u001b[0mIndexes\u001b[0m \u001b[0mhave\u001b[0m \u001b[0moverlapping\u001b[0m \u001b[0mvalues\u001b[0m\u001b[1;33m:\u001b[0m \u001b[1;33m[\u001b[0m\u001b[1;34m'a'\u001b[0m\u001b[1;33m]\u001b[0m\u001b[1;33m\u001b[0m\u001b[1;33m\u001b[0m\u001b[0m\n\u001b[0;32m    293\u001b[0m     \"\"\"\n\u001b[1;32m--> 294\u001b[1;33m     op = _Concatenator(\n\u001b[0m\u001b[0;32m    295\u001b[0m         \u001b[0mobjs\u001b[0m\u001b[1;33m,\u001b[0m\u001b[1;33m\u001b[0m\u001b[1;33m\u001b[0m\u001b[0m\n\u001b[0;32m    296\u001b[0m         \u001b[0maxis\u001b[0m\u001b[1;33m=\u001b[0m\u001b[0maxis\u001b[0m\u001b[1;33m,\u001b[0m\u001b[1;33m\u001b[0m\u001b[1;33m\u001b[0m\u001b[0m\n",
      "\u001b[1;32m~\\AppData\\Local\\Packages\\PythonSoftwareFoundation.Python.3.8_qbz5n2kfra8p0\\LocalCache\\local-packages\\Python38\\site-packages\\pandas\\core\\reshape\\concat.py\u001b[0m in \u001b[0;36m__init__\u001b[1;34m(self, objs, axis, join, keys, levels, names, ignore_index, verify_integrity, copy, sort)\u001b[0m\n\u001b[0;32m    382\u001b[0m                     \u001b[1;34m\"only Series and DataFrame objs are valid\"\u001b[0m\u001b[1;33m\u001b[0m\u001b[1;33m\u001b[0m\u001b[0m\n\u001b[0;32m    383\u001b[0m                 )\n\u001b[1;32m--> 384\u001b[1;33m                 \u001b[1;32mraise\u001b[0m \u001b[0mTypeError\u001b[0m\u001b[1;33m(\u001b[0m\u001b[0mmsg\u001b[0m\u001b[1;33m)\u001b[0m\u001b[1;33m\u001b[0m\u001b[1;33m\u001b[0m\u001b[0m\n\u001b[0m\u001b[0;32m    385\u001b[0m \u001b[1;33m\u001b[0m\u001b[0m\n\u001b[0;32m    386\u001b[0m             \u001b[0mndims\u001b[0m\u001b[1;33m.\u001b[0m\u001b[0madd\u001b[0m\u001b[1;33m(\u001b[0m\u001b[0mobj\u001b[0m\u001b[1;33m.\u001b[0m\u001b[0mndim\u001b[0m\u001b[1;33m)\u001b[0m\u001b[1;33m\u001b[0m\u001b[1;33m\u001b[0m\u001b[0m\n",
      "\u001b[1;31mTypeError\u001b[0m: cannot concatenate object of type '<class 'module'>'; only Series and DataFrame objs are valid"
     ]
    }
   ],
   "source": [
    "import pandas as pd\n",
    "import numpy as np\n",
    "import os\n",
    "\n",
    "dirs = os.listdir(\".\\ETFs\")\n",
    "print(dirs)\n",
    "i = 0\n",
    "for d in dirs:\n",
    "    files = os.listdir(f\".\\ETFs\\{d}\")\n",
    "    for f in files:\n",
    "        if i == 0:\n",
    "            df = pd.read_csv(f\".\\ETFs\\{d}\\{f}\")\n",
    "            df = df[df.columns[:-1]]\n",
    "            df[\"Sector\"]=d\n",
    "            df[\"ETF\"]=f.split(\".\")[0].upper()\n",
    "            df = df[[\"Date\",\"ETF\",\"Sector\"]+list(df.columns[1:-2])]\n",
    "            print(df)\n",
    "            i+=1\n",
    "        else:\n",
    "            a = pd.read_csv(f\".\\ETFs\\{d}\\{f}\")\n",
    "            a = a[a.columns[:-1]]\n",
    "            a[\"Sector\"]=d\n",
    "            a[\"ETF\"]=f.split(\".\")[0].upper()\n",
    "            a = a[[\"Date\",\"ETF\",\"Sector\"]+list(a.columns[1:-2])]\n",
    "            print(a)\n",
    "            df = pd.concat([pd,a],ignore_index=True)\n",
    "\n",
    "print(df)"
   ]
  }
 ],
 "metadata": {
  "kernelspec": {
   "display_name": "Python 3 (ipykernel)",
   "language": "python",
   "name": "python3"
  },
  "language_info": {
   "codemirror_mode": {
    "name": "ipython",
    "version": 3
   },
   "file_extension": ".py",
   "mimetype": "text/x-python",
   "name": "python",
   "nbconvert_exporter": "python",
   "pygments_lexer": "ipython3",
   "version": "3.8.10"
  }
 },
 "nbformat": 4,
 "nbformat_minor": 5
}
